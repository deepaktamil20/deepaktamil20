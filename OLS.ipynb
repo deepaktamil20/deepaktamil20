{
  "nbformat": 4,
  "nbformat_minor": 0,
  "metadata": {
    "colab": {
      "name": "OLS.ipynb",
      "provenance": [],
      "collapsed_sections": [],
      "include_colab_link": true
    },
    "kernelspec": {
      "name": "python3",
      "display_name": "Python 3"
    },
    "language_info": {
      "name": "python"
    }
  },
  "cells": [
    {
      "cell_type": "markdown",
      "metadata": {
        "id": "view-in-github",
        "colab_type": "text"
      },
      "source": [
        "<a href=\"https://colab.research.google.com/github/deepaktamil20/deepaktamil20/blob/main/OLS.ipynb\" target=\"_parent\"><img src=\"https://colab.research.google.com/assets/colab-badge.svg\" alt=\"Open In Colab\"/></a>"
      ]
    },
    {
      "cell_type": "code",
      "source": [
        "from google.colab import drive\n",
        "drive.mount('/content/drive')"
      ],
      "metadata": {
        "id": "NkS9Cva10Cu6",
        "colab": {
          "base_uri": "https://localhost:8080/"
        },
        "outputId": "0ec54655-666c-4401-ab0e-08c4e3bf0cef"
      },
      "execution_count": 1,
      "outputs": [
        {
          "output_type": "stream",
          "name": "stdout",
          "text": [
            "Mounted at /content/drive\n"
          ]
        }
      ]
    },
    {
      "cell_type": "code",
      "execution_count": 2,
      "metadata": {
        "id": "HppKbgDGzfwd",
        "colab": {
          "base_uri": "https://localhost:8080/"
        },
        "outputId": "59404f2d-350e-4daf-da23-e65673504ab5"
      },
      "outputs": [
        {
          "output_type": "stream",
          "name": "stderr",
          "text": [
            "/usr/local/lib/python3.7/dist-packages/statsmodels/tools/_testing.py:19: FutureWarning: pandas.util.testing is deprecated. Use the functions in the public API at pandas.testing instead.\n",
            "  import pandas.util.testing as tm\n"
          ]
        }
      ],
      "source": [
        "import pandas as pd\n",
        "import statsmodels.api as sm"
      ]
    },
    {
      "cell_type": "code",
      "source": [
        "df = pd.read_csv(\"/content/drive/MyDrive/0.MKCE/Datasets/restaurants.csv\")"
      ],
      "metadata": {
        "id": "jAMppgDxz_1B"
      },
      "execution_count": 3,
      "outputs": []
    },
    {
      "cell_type": "code",
      "source": [
        "X = df['Food_Quality']\n",
        "\n",
        "Y = df['Price']"
      ],
      "metadata": {
        "id": "GRkSyC570bta"
      },
      "execution_count": 4,
      "outputs": []
    },
    {
      "cell_type": "code",
      "source": [
        "X = sm.add_constant(X)\n",
        "\n",
        "model = sm.OLS(Y, X).fit()"
      ],
      "metadata": {
        "id": "OlGa0d-X0gSZ",
        "colab": {
          "base_uri": "https://localhost:8080/"
        },
        "outputId": "5397c310-d2b3-43e8-e4ff-17f6c46e6d45"
      },
      "execution_count": 5,
      "outputs": [
        {
          "output_type": "stream",
          "name": "stderr",
          "text": [
            "/usr/local/lib/python3.7/dist-packages/statsmodels/tsa/tsatools.py:117: FutureWarning: In a future version of pandas all arguments of concat except for the argument 'objs' will be keyword-only\n",
            "  x = pd.concat(x[::order], 1)\n"
          ]
        }
      ]
    },
    {
      "cell_type": "code",
      "source": [
        "summary = model.summary()\n",
        "print(summary)"
      ],
      "metadata": {
        "id": "JZQ2HhWX0kv_",
        "colab": {
          "base_uri": "https://localhost:8080/"
        },
        "outputId": "00447dfd-849a-4d54-f401-ed64d455e65a"
      },
      "execution_count": 6,
      "outputs": [
        {
          "output_type": "stream",
          "name": "stdout",
          "text": [
            "                            OLS Regression Results                            \n",
            "==============================================================================\n",
            "Dep. Variable:                  Price   R-squared:                       0.321\n",
            "Model:                            OLS   Adj. R-squared:                  0.300\n",
            "Method:                 Least Squares   F-statistic:                     15.15\n",
            "Date:                Sat, 18 Jun 2022   Prob (F-statistic):           0.000474\n",
            "Time:                        11:11:13   Log-Likelihood:                -111.50\n",
            "No. Observations:                  34   AIC:                             227.0\n",
            "Df Residuals:                      32   BIC:                             230.0\n",
            "Df Model:                           1                                         \n",
            "Covariance Type:            nonrobust                                         \n",
            "================================================================================\n",
            "                   coef    std err          t      P>|t|      [0.025      0.975]\n",
            "--------------------------------------------------------------------------------\n",
            "const          -23.9019     17.718     -1.349      0.187     -59.992      12.188\n",
            "Food_Quality     3.2495      0.835      3.892      0.000       1.549       4.950\n",
            "==============================================================================\n",
            "Omnibus:                        5.680   Durbin-Watson:                   1.837\n",
            "Prob(Omnibus):                  0.058   Jarque-Bera (JB):                4.769\n",
            "Skew:                           0.507   Prob(JB):                       0.0922\n",
            "Kurtosis:                       4.529   Cond. No.                         332.\n",
            "==============================================================================\n",
            "\n",
            "Warnings:\n",
            "[1] Standard Errors assume that the covariance matrix of the errors is correctly specified.\n"
          ]
        }
      ]
    },
    {
      "cell_type": "code",
      "source": [
        "sm.stats.linear_rainbow(model)"
      ],
      "metadata": {
        "id": "JXlijrfQ0pz8",
        "colab": {
          "base_uri": "https://localhost:8080/"
        },
        "outputId": "f2116edb-1f11-454b-9203-eb38d8c5e0d9"
      },
      "execution_count": 7,
      "outputs": [
        {
          "output_type": "execute_result",
          "data": {
            "text/plain": [
              "(3.95352909410105, 0.0051865838644822495)"
            ]
          },
          "metadata": {},
          "execution_count": 7
        }
      ]
    },
    {
      "cell_type": "code",
      "source": [
        "model.params"
      ],
      "metadata": {
        "id": "9DUwkVTU1jvE",
        "colab": {
          "base_uri": "https://localhost:8080/"
        },
        "outputId": "bbb57ac3-7be8-4a46-90a1-59d5d3ac3ed9"
      },
      "execution_count": 8,
      "outputs": [
        {
          "output_type": "execute_result",
          "data": {
            "text/plain": [
              "const          -23.901869\n",
              "Food_Quality     3.249533\n",
              "dtype: float64"
            ]
          },
          "metadata": {},
          "execution_count": 8
        }
      ]
    },
    {
      "cell_type": "code",
      "source": [
        "model.rsquared"
      ],
      "metadata": {
        "id": "Y2vljdgL2Xol",
        "colab": {
          "base_uri": "https://localhost:8080/"
        },
        "outputId": "ac99fd41-0a7c-47d2-f262-5c5c583a8212"
      },
      "execution_count": 9,
      "outputs": [
        {
          "output_type": "execute_result",
          "data": {
            "text/plain": [
              "0.3212711726017563"
            ]
          },
          "metadata": {},
          "execution_count": 9
        }
      ]
    },
    {
      "cell_type": "code",
      "source": [
        ""
      ],
      "metadata": {
        "id": "LlF8F2sv2lK3"
      },
      "execution_count": 9,
      "outputs": []
    }
  ]
}