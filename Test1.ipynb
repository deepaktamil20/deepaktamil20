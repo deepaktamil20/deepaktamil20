list1=['good','best','awesome','nice']
list2=['worst','awful']
pl=[]
nl=[]
c=["He is good boy","Food is worst here","He is an awesome player","She is the best","The pizza tastes awful","These burgers are really nice"]
for j in range(0,1):    
    for i in range(0,len(c)):
        if list1[j] in c[i] or list1[j+1] in c[i] or list1[j+2] in c[i] or list1[j+3] in c[i]:
            pl.append(c[i])
        elif n[j] in c[i] or n[j+1] in c[i]:
            nl.append(c[i])
print(pl)
print(nl)
