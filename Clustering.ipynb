{
  "cells": [
    {
      "cell_type": "markdown",
      "metadata": {
        "id": "view-in-github",
        "colab_type": "text"
      },
      "source": [
        "<a href=\"https://colab.research.google.com/github/deepaktamil20/deepaktamil20/blob/main/Clustering.ipynb\" target=\"_parent\"><img src=\"https://colab.research.google.com/assets/colab-badge.svg\" alt=\"Open In Colab\"/></a>"
      ]
    },
    {
      "cell_type": "code",
      "execution_count": 1,
      "metadata": {
        "colab": {
          "base_uri": "https://localhost:8080/"
        },
        "id": "6hjRGKY82aZF",
        "outputId": "36b5c4f1-5ede-4a3f-f6dc-0d2cd6bf5719"
      },
      "outputs": [
        {
          "output_type": "stream",
          "name": "stdout",
          "text": [
            "Mounted at /content/drive\n"
          ]
        }
      ],
      "source": [
        "from google.colab import drive\n",
        "drive.mount('/content/drive')"
      ]
    },
    {
      "cell_type": "code",
      "execution_count": 2,
      "metadata": {
        "id": "pgdUxgcZGLPm"
      },
      "outputs": [],
      "source": [
        "import pandas as pd\n",
        "data = pd.read_excel('/content/drive/MyDrive/0.MKCE/Datasets/Credit Card Customer Data.xlsx')"
      ]
    },
    {
      "cell_type": "code",
      "execution_count": 3,
      "metadata": {
        "colab": {
          "base_uri": "https://localhost:8080/",
          "height": 206
        },
        "id": "JM4A5RziVGGl",
        "outputId": "ac50f727-0609-4c7b-8e6e-c8d09acb0cd0"
      },
      "outputs": [
        {
          "output_type": "execute_result",
          "data": {
            "text/plain": [
              "   Sl_No  Customer Key  Avg_Credit_Limit  Total_Credit_Cards  \\\n",
              "0      1         87073            100000                   2   \n",
              "1      2         38414             50000                   3   \n",
              "2      3         17341             50000                   7   \n",
              "3      4         40496             30000                   5   \n",
              "4      5         47437            100000                   6   \n",
              "\n",
              "   Total_visits_bank  Total_visits_online  Total_calls_made  \n",
              "0                  1                    1                 0  \n",
              "1                  0                   10                 9  \n",
              "2                  1                    3                 4  \n",
              "3                  1                    1                 4  \n",
              "4                  0                   12                 3  "
            ],
            "text/html": [
              "\n",
              "  <div id=\"df-3d45ccc2-570f-4d9b-8d59-5635b9ffec87\">\n",
              "    <div class=\"colab-df-container\">\n",
              "      <div>\n",
              "<style scoped>\n",
              "    .dataframe tbody tr th:only-of-type {\n",
              "        vertical-align: middle;\n",
              "    }\n",
              "\n",
              "    .dataframe tbody tr th {\n",
              "        vertical-align: top;\n",
              "    }\n",
              "\n",
              "    .dataframe thead th {\n",
              "        text-align: right;\n",
              "    }\n",
              "</style>\n",
              "<table border=\"1\" class=\"dataframe\">\n",
              "  <thead>\n",
              "    <tr style=\"text-align: right;\">\n",
              "      <th></th>\n",
              "      <th>Sl_No</th>\n",
              "      <th>Customer Key</th>\n",
              "      <th>Avg_Credit_Limit</th>\n",
              "      <th>Total_Credit_Cards</th>\n",
              "      <th>Total_visits_bank</th>\n",
              "      <th>Total_visits_online</th>\n",
              "      <th>Total_calls_made</th>\n",
              "    </tr>\n",
              "  </thead>\n",
              "  <tbody>\n",
              "    <tr>\n",
              "      <th>0</th>\n",
              "      <td>1</td>\n",
              "      <td>87073</td>\n",
              "      <td>100000</td>\n",
              "      <td>2</td>\n",
              "      <td>1</td>\n",
              "      <td>1</td>\n",
              "      <td>0</td>\n",
              "    </tr>\n",
              "    <tr>\n",
              "      <th>1</th>\n",
              "      <td>2</td>\n",
              "      <td>38414</td>\n",
              "      <td>50000</td>\n",
              "      <td>3</td>\n",
              "      <td>0</td>\n",
              "      <td>10</td>\n",
              "      <td>9</td>\n",
              "    </tr>\n",
              "    <tr>\n",
              "      <th>2</th>\n",
              "      <td>3</td>\n",
              "      <td>17341</td>\n",
              "      <td>50000</td>\n",
              "      <td>7</td>\n",
              "      <td>1</td>\n",
              "      <td>3</td>\n",
              "      <td>4</td>\n",
              "    </tr>\n",
              "    <tr>\n",
              "      <th>3</th>\n",
              "      <td>4</td>\n",
              "      <td>40496</td>\n",
              "      <td>30000</td>\n",
              "      <td>5</td>\n",
              "      <td>1</td>\n",
              "      <td>1</td>\n",
              "      <td>4</td>\n",
              "    </tr>\n",
              "    <tr>\n",
              "      <th>4</th>\n",
              "      <td>5</td>\n",
              "      <td>47437</td>\n",
              "      <td>100000</td>\n",
              "      <td>6</td>\n",
              "      <td>0</td>\n",
              "      <td>12</td>\n",
              "      <td>3</td>\n",
              "    </tr>\n",
              "  </tbody>\n",
              "</table>\n",
              "</div>\n",
              "      <button class=\"colab-df-convert\" onclick=\"convertToInteractive('df-3d45ccc2-570f-4d9b-8d59-5635b9ffec87')\"\n",
              "              title=\"Convert this dataframe to an interactive table.\"\n",
              "              style=\"display:none;\">\n",
              "        \n",
              "  <svg xmlns=\"http://www.w3.org/2000/svg\" height=\"24px\"viewBox=\"0 0 24 24\"\n",
              "       width=\"24px\">\n",
              "    <path d=\"M0 0h24v24H0V0z\" fill=\"none\"/>\n",
              "    <path d=\"M18.56 5.44l.94 2.06.94-2.06 2.06-.94-2.06-.94-.94-2.06-.94 2.06-2.06.94zm-11 1L8.5 8.5l.94-2.06 2.06-.94-2.06-.94L8.5 2.5l-.94 2.06-2.06.94zm10 10l.94 2.06.94-2.06 2.06-.94-2.06-.94-.94-2.06-.94 2.06-2.06.94z\"/><path d=\"M17.41 7.96l-1.37-1.37c-.4-.4-.92-.59-1.43-.59-.52 0-1.04.2-1.43.59L10.3 9.45l-7.72 7.72c-.78.78-.78 2.05 0 2.83L4 21.41c.39.39.9.59 1.41.59.51 0 1.02-.2 1.41-.59l7.78-7.78 2.81-2.81c.8-.78.8-2.07 0-2.86zM5.41 20L4 18.59l7.72-7.72 1.47 1.35L5.41 20z\"/>\n",
              "  </svg>\n",
              "      </button>\n",
              "      \n",
              "  <style>\n",
              "    .colab-df-container {\n",
              "      display:flex;\n",
              "      flex-wrap:wrap;\n",
              "      gap: 12px;\n",
              "    }\n",
              "\n",
              "    .colab-df-convert {\n",
              "      background-color: #E8F0FE;\n",
              "      border: none;\n",
              "      border-radius: 50%;\n",
              "      cursor: pointer;\n",
              "      display: none;\n",
              "      fill: #1967D2;\n",
              "      height: 32px;\n",
              "      padding: 0 0 0 0;\n",
              "      width: 32px;\n",
              "    }\n",
              "\n",
              "    .colab-df-convert:hover {\n",
              "      background-color: #E2EBFA;\n",
              "      box-shadow: 0px 1px 2px rgba(60, 64, 67, 0.3), 0px 1px 3px 1px rgba(60, 64, 67, 0.15);\n",
              "      fill: #174EA6;\n",
              "    }\n",
              "\n",
              "    [theme=dark] .colab-df-convert {\n",
              "      background-color: #3B4455;\n",
              "      fill: #D2E3FC;\n",
              "    }\n",
              "\n",
              "    [theme=dark] .colab-df-convert:hover {\n",
              "      background-color: #434B5C;\n",
              "      box-shadow: 0px 1px 3px 1px rgba(0, 0, 0, 0.15);\n",
              "      filter: drop-shadow(0px 1px 2px rgba(0, 0, 0, 0.3));\n",
              "      fill: #FFFFFF;\n",
              "    }\n",
              "  </style>\n",
              "\n",
              "      <script>\n",
              "        const buttonEl =\n",
              "          document.querySelector('#df-3d45ccc2-570f-4d9b-8d59-5635b9ffec87 button.colab-df-convert');\n",
              "        buttonEl.style.display =\n",
              "          google.colab.kernel.accessAllowed ? 'block' : 'none';\n",
              "\n",
              "        async function convertToInteractive(key) {\n",
              "          const element = document.querySelector('#df-3d45ccc2-570f-4d9b-8d59-5635b9ffec87');\n",
              "          const dataTable =\n",
              "            await google.colab.kernel.invokeFunction('convertToInteractive',\n",
              "                                                     [key], {});\n",
              "          if (!dataTable) return;\n",
              "\n",
              "          const docLinkHtml = 'Like what you see? Visit the ' +\n",
              "            '<a target=\"_blank\" href=https://colab.research.google.com/notebooks/data_table.ipynb>data table notebook</a>'\n",
              "            + ' to learn more about interactive tables.';\n",
              "          element.innerHTML = '';\n",
              "          dataTable['output_type'] = 'display_data';\n",
              "          await google.colab.output.renderOutput(dataTable, element);\n",
              "          const docLink = document.createElement('div');\n",
              "          docLink.innerHTML = docLinkHtml;\n",
              "          element.appendChild(docLink);\n",
              "        }\n",
              "      </script>\n",
              "    </div>\n",
              "  </div>\n",
              "  "
            ]
          },
          "metadata": {},
          "execution_count": 3
        }
      ],
      "source": [
        "data.head()"
      ]
    },
    {
      "cell_type": "code",
      "execution_count": 4,
      "metadata": {
        "colab": {
          "base_uri": "https://localhost:8080/"
        },
        "id": "XzHNoZOwVWtx",
        "outputId": "85b4749d-2a30-4ce6-d03b-f167539d8343"
      },
      "outputs": [
        {
          "output_type": "execute_result",
          "data": {
            "text/plain": [
              "(660, 5)"
            ]
          },
          "metadata": {},
          "execution_count": 4
        }
      ],
      "source": [
        "data = data.drop(['Sl_No','Customer Key'],axis=1)\n",
        "data.shape"
      ]
    },
    {
      "cell_type": "code",
      "execution_count": 5,
      "metadata": {
        "colab": {
          "base_uri": "https://localhost:8080/",
          "height": 920
        },
        "id": "Mm94NaOuXNOM",
        "outputId": "12fa232d-5dfc-4698-f81b-d63ab8633bc7"
      },
      "outputs": [
        {
          "output_type": "execute_result",
          "data": {
            "text/plain": [
              "<seaborn.axisgrid.PairGrid at 0x7fe8715cf4d0>"
            ]
          },
          "metadata": {},
          "execution_count": 5
        },
        {
          "output_type": "display_data",
          "data": {
            "text/plain": [
              "<Figure size 900x900 with 30 Axes>"
            ],
            "image/png": "[encoded data removed]"
          },
          "metadata": {
            "needs_background": "light"
          }
        }
      ],
      "source": [
        "import seaborn as sns\n",
        "sns.pairplot(data)"
      ]
    },
    {
      "cell_type": "code",
      "execution_count": 6,
      "metadata": {
        "colab": {
          "base_uri": "https://localhost:8080/",
          "height": 206
        },
        "id": "Go_tQQhXXhFP",
        "outputId": "a7e05abe-1abb-4504-e34f-c7820b695181"
      },
      "outputs": [
        {
          "output_type": "execute_result",
          "data": {
            "text/plain": [
              "                     Avg_Credit_Limit  Total_Credit_Cards  Total_visits_bank  \\\n",
              "Avg_Credit_Limit             1.000000            0.608860          -0.100312   \n",
              "Total_Credit_Cards           0.608860            1.000000           0.315796   \n",
              "Total_visits_bank           -0.100312            0.315796           1.000000   \n",
              "Total_visits_online          0.551385            0.167758          -0.551861   \n",
              "Total_calls_made            -0.414352           -0.651251          -0.506016   \n",
              "\n",
              "                     Total_visits_online  Total_calls_made  \n",
              "Avg_Credit_Limit                0.551385         -0.414352  \n",
              "Total_Credit_Cards              0.167758         -0.651251  \n",
              "Total_visits_bank              -0.551861         -0.506016  \n",
              "Total_visits_online             1.000000          0.127299  \n",
              "Total_calls_made                0.127299          1.000000  "
            ],
            "text/html": [
              "\n",
              "  <div id=\"df-b0c3ea7f-b5a4-4c78-a8da-8371528bffd6\">\n",
              "    <div class=\"colab-df-container\">\n",
              "      <div>\n",
              "<style scoped>\n",
              "    .dataframe tbody tr th:only-of-type {\n",
              "        vertical-align: middle;\n",
              "    }\n",
              "\n",
              "    .dataframe tbody tr th {\n",
              "        vertical-align: top;\n",
              "    }\n",
              "\n",
              "    .dataframe thead th {\n",
              "        text-align: right;\n",
              "    }\n",
              "</style>\n",
              "<table border=\"1\" class=\"dataframe\">\n",
              "  <thead>\n",
              "    <tr style=\"text-align: right;\">\n",
              "      <th></th>\n",
              "      <th>Avg_Credit_Limit</th>\n",
              "      <th>Total_Credit_Cards</th>\n",
              "      <th>Total_visits_bank</th>\n",
              "      <th>Total_visits_online</th>\n",
              "      <th>Total_calls_made</th>\n",
              "    </tr>\n",
              "  </thead>\n",
              "  <tbody>\n",
              "    <tr>\n",
              "      <th>Avg_Credit_Limit</th>\n",
              "      <td>1.000000</td>\n",
              "      <td>0.608860</td>\n",
              "      <td>-0.100312</td>\n",
              "      <td>0.551385</td>\n",
              "      <td>-0.414352</td>\n",
              "    </tr>\n",
              "    <tr>\n",
              "      <th>Total_Credit_Cards</th>\n",
              "      <td>0.608860</td>\n",
              "      <td>1.000000</td>\n",
              "      <td>0.315796</td>\n",
              "      <td>0.167758</td>\n",
              "      <td>-0.651251</td>\n",
              "    </tr>\n",
              "    <tr>\n",
              "      <th>Total_visits_bank</th>\n",
              "      <td>-0.100312</td>\n",
              "      <td>0.315796</td>\n",
              "      <td>1.000000</td>\n",
              "      <td>-0.551861</td>\n",
              "      <td>-0.506016</td>\n",
              "    </tr>\n",
              "    <tr>\n",
              "      <th>Total_visits_online</th>\n",
              "      <td>0.551385</td>\n",
              "      <td>0.167758</td>\n",
              "      <td>-0.551861</td>\n",
              "      <td>1.000000</td>\n",
              "      <td>0.127299</td>\n",
              "    </tr>\n",
              "    <tr>\n",
              "      <th>Total_calls_made</th>\n",
              "      <td>-0.414352</td>\n",
              "      <td>-0.651251</td>\n",
              "      <td>-0.506016</td>\n",
              "      <td>0.127299</td>\n",
              "      <td>1.000000</td>\n",
              "    </tr>\n",
              "  </tbody>\n",
              "</table>\n",
              "</div>\n",
              "      <button class=\"colab-df-convert\" onclick=\"convertToInteractive('df-b0c3ea7f-b5a4-4c78-a8da-8371528bffd6')\"\n",
              "              title=\"Convert this dataframe to an interactive table.\"\n",
              "              style=\"display:none;\">\n",
              "        \n",
              "  <svg xmlns=\"http://www.w3.org/2000/svg\" height=\"24px\"viewBox=\"0 0 24 24\"\n",
              "       width=\"24px\">\n",
              "    <path d=\"M0 0h24v24H0V0z\" fill=\"none\"/>\n",
              "    <path d=\"M18.56 5.44l.94 2.06.94-2.06 2.06-.94-2.06-.94-.94-2.06-.94 2.06-2.06.94zm-11 1L8.5 8.5l.94-2.06 2.06-.94-2.06-.94L8.5 2.5l-.94 2.06-2.06.94zm10 10l.94 2.06.94-2.06 2.06-.94-2.06-.94-.94-2.06-.94 2.06-2.06.94z\"/><path d=\"M17.41 7.96l-1.37-1.37c-.4-.4-.92-.59-1.43-.59-.52 0-1.04.2-1.43.59L10.3 9.45l-7.72 7.72c-.78.78-.78 2.05 0 2.83L4 21.41c.39.39.9.59 1.41.59.51 0 1.02-.2 1.41-.59l7.78-7.78 2.81-2.81c.8-.78.8-2.07 0-2.86zM5.41 20L4 18.59l7.72-7.72 1.47 1.35L5.41 20z\"/>\n",
              "  </svg>\n",
              "      </button>\n",
              "      \n",
              "  <style>\n",
              "    .colab-df-container {\n",
              "      display:flex;\n",
              "      flex-wrap:wrap;\n",
              "      gap: 12px;\n",
              "    }\n",
              "\n",
              "    .colab-df-convert {\n",
              "      background-color: #E8F0FE;\n",
              "      border: none;\n",
              "      border-radius: 50%;\n",
              "      cursor: pointer;\n",
              "      display: none;\n",
              "      fill: #1967D2;\n",
              "      height: 32px;\n",
              "      padding: 0 0 0 0;\n",
              "      width: 32px;\n",
              "    }\n",
              "\n",
              "    .colab-df-convert:hover {\n",
              "      background-color: #E2EBFA;\n",
              "      box-shadow: 0px 1px 2px rgba(60, 64, 67, 0.3), 0px 1px 3px 1px rgba(60, 64, 67, 0.15);\n",
              "      fill: #174EA6;\n",
              "    }\n",
              "\n",
              "    [theme=dark] .colab-df-convert {\n",
              "      background-color: #3B4455;\n",
              "      fill: #D2E3FC;\n",
              "    }\n",
              "\n",
              "    [theme=dark] .colab-df-convert:hover {\n",
              "      background-color: #434B5C;\n",
              "      box-shadow: 0px 1px 3px 1px rgba(0, 0, 0, 0.15);\n",
              "      filter: drop-shadow(0px 1px 2px rgba(0, 0, 0, 0.3));\n",
              "      fill: #FFFFFF;\n",
              "    }\n",
              "  </style>\n",
              "\n",
              "      <script>\n",
              "        const buttonEl =\n",
              "          document.querySelector('#df-b0c3ea7f-b5a4-4c78-a8da-8371528bffd6 button.colab-df-convert');\n",
              "        buttonEl.style.display =\n",
              "          google.colab.kernel.accessAllowed ? 'block' : 'none';\n",
              "\n",
              "        async function convertToInteractive(key) {\n",
              "          const element = document.querySelector('#df-b0c3ea7f-b5a4-4c78-a8da-8371528bffd6');\n",
              "          const dataTable =\n",
              "            await google.colab.kernel.invokeFunction('convertToInteractive',\n",
              "                                                     [key], {});\n",
              "          if (!dataTable) return;\n",
              "\n",
              "          const docLinkHtml = 'Like what you see? Visit the ' +\n",
              "            '<a target=\"_blank\" href=https://colab.research.google.com/notebooks/data_table.ipynb>data table notebook</a>'\n",
              "            + ' to learn more about interactive tables.';\n",
              "          element.innerHTML = '';\n",
              "          dataTable['output_type'] = 'display_data';\n",
              "          await google.colab.output.renderOutput(dataTable, element);\n",
              "          const docLink = document.createElement('div');\n",
              "          docLink.innerHTML = docLinkHtml;\n",
              "          element.appendChild(docLink);\n",
              "        }\n",
              "      </script>\n",
              "    </div>\n",
              "  </div>\n",
              "  "
            ]
          },
          "metadata": {},
          "execution_count": 6
        }
      ],
      "source": [
        "data.corr()"
      ]
    },
    {
      "cell_type": "markdown",
      "metadata": {
        "id": "KS_EuJbB4pRZ"
      },
      "source": [
        "Avg_Credit_Limit has higher correlation with Total_Credit_Cards and Total_visits_online\t"
      ]
    },
    {
      "cell_type": "code",
      "execution_count": 7,
      "metadata": {
        "id": "SZz2zcUHX_6H"
      },
      "outputs": [],
      "source": [
        "#Import machine learning library scikit learn\n",
        "\n",
        "import sklearn"
      ]
    },
    {
      "cell_type": "code",
      "execution_count": 8,
      "metadata": {
        "id": "3JQu4zv5YREB"
      },
      "outputs": [],
      "source": [
        "from sklearn.cluster import KMeans  #From big sklearn library import cluster called KMeans"
      ]
    },
    {
      "cell_type": "code",
      "execution_count": 9,
      "metadata": {
        "id": "_RGZBoK0YhVm"
      },
      "outputs": [],
      "source": [
        "km = KMeans(3)  #Create 3 groups"
      ]
    },
    {
      "cell_type": "code",
      "execution_count": 10,
      "metadata": {
        "colab": {
          "base_uri": "https://localhost:8080/"
        },
        "id": "f79dQxKpYuzo",
        "outputId": "23efe910-92ca-4c1d-9d61-7a3a37070e4e"
      },
      "outputs": [
        {
          "output_type": "execute_result",
          "data": {
            "text/plain": [
              "KMeans(n_clusters=3)"
            ]
          },
          "metadata": {},
          "execution_count": 10
        }
      ],
      "source": [
        "km.fit(data)"
      ]
    },
    {
      "cell_type": "code",
      "execution_count": 11,
      "metadata": {
        "id": "eDxKwG6LY2A3"
      },
      "outputs": [],
      "source": [
        "data['Group or Cluster'] = km.fit_predict(data)"
      ]
    },
    {
      "cell_type": "code",
      "execution_count": 12,
      "metadata": {
        "colab": {
          "base_uri": "https://localhost:8080/",
          "height": 206
        },
        "id": "IuXmSv9xZF3q",
        "outputId": "1a5fb271-56ad-4d3f-f4f0-a8b9f918bd79"
      },
      "outputs": [
        {
          "output_type": "execute_result",
          "data": {
            "text/plain": [
              "   Avg_Credit_Limit  Total_Credit_Cards  Total_visits_bank  \\\n",
              "0            100000                   2                  1   \n",
              "1             50000                   3                  0   \n",
              "2             50000                   7                  1   \n",
              "3             30000                   5                  1   \n",
              "4            100000                   6                  0   \n",
              "\n",
              "   Total_visits_online  Total_calls_made  Group or Cluster  \n",
              "0                    1                 0                 1  \n",
              "1                   10                 9                 1  \n",
              "2                    3                 4                 1  \n",
              "3                    1                 4                 0  \n",
              "4                   12                 3                 1  "
            ],
            "text/html": [
              "\n",
              "  <div id=\"df-c84ee405-deb8-43ae-88db-622b7e20f8ed\">\n",
              "    <div class=\"colab-df-container\">\n",
              "      <div>\n",
              "<style scoped>\n",
              "    .dataframe tbody tr th:only-of-type {\n",
              "        vertical-align: middle;\n",
              "    }\n",
              "\n",
              "    .dataframe tbody tr th {\n",
              "        vertical-align: top;\n",
              "    }\n",
              "\n",
              "    .dataframe thead th {\n",
              "        text-align: right;\n",
              "    }\n",
              "</style>\n",
              "<table border=\"1\" class=\"dataframe\">\n",
              "  <thead>\n",
              "    <tr style=\"text-align: right;\">\n",
              "      <th></th>\n",
              "      <th>Avg_Credit_Limit</th>\n",
              "      <th>Total_Credit_Cards</th>\n",
              "      <th>Total_visits_bank</th>\n",
              "      <th>Total_visits_online</th>\n",
              "      <th>Total_calls_made</th>\n",
              "      <th>Group or Cluster</th>\n",
              "    </tr>\n",
              "  </thead>\n",
              "  <tbody>\n",
              "    <tr>\n",
              "      <th>0</th>\n",
              "      <td>100000</td>\n",
              "      <td>2</td>\n",
              "      <td>1</td>\n",
              "      <td>1</td>\n",
              "      <td>0</td>\n",
              "      <td>1</td>\n",
              "    </tr>\n",
              "    <tr>\n",
              "      <th>1</th>\n",
              "      <td>50000</td>\n",
              "      <td>3</td>\n",
              "      <td>0</td>\n",
              "      <td>10</td>\n",
              "      <td>9</td>\n",
              "      <td>1</td>\n",
              "    </tr>\n",
              "    <tr>\n",
              "      <th>2</th>\n",
              "      <td>50000</td>\n",
              "      <td>7</td>\n",
              "      <td>1</td>\n",
              "      <td>3</td>\n",
              "      <td>4</td>\n",
              "      <td>1</td>\n",
              "    </tr>\n",
              "    <tr>\n",
              "      <th>3</th>\n",
              "      <td>30000</td>\n",
              "      <td>5</td>\n",
              "      <td>1</td>\n",
              "      <td>1</td>\n",
              "      <td>4</td>\n",
              "      <td>0</td>\n",
              "    </tr>\n",
              "    <tr>\n",
              "      <th>4</th>\n",
              "      <td>100000</td>\n",
              "      <td>6</td>\n",
              "      <td>0</td>\n",
              "      <td>12</td>\n",
              "      <td>3</td>\n",
              "      <td>1</td>\n",
              "    </tr>\n",
              "  </tbody>\n",
              "</table>\n",
              "</div>\n",
              "      <button class=\"colab-df-convert\" onclick=\"convertToInteractive('df-c84ee405-deb8-43ae-88db-622b7e20f8ed')\"\n",
              "              title=\"Convert this dataframe to an interactive table.\"\n",
              "              style=\"display:none;\">\n",
              "        \n",
              "  <svg xmlns=\"http://www.w3.org/2000/svg\" height=\"24px\"viewBox=\"0 0 24 24\"\n",
              "       width=\"24px\">\n",
              "    <path d=\"M0 0h24v24H0V0z\" fill=\"none\"/>\n",
              "    <path d=\"M18.56 5.44l.94 2.06.94-2.06 2.06-.94-2.06-.94-.94-2.06-.94 2.06-2.06.94zm-11 1L8.5 8.5l.94-2.06 2.06-.94-2.06-.94L8.5 2.5l-.94 2.06-2.06.94zm10 10l.94 2.06.94-2.06 2.06-.94-2.06-.94-.94-2.06-.94 2.06-2.06.94z\"/><path d=\"M17.41 7.96l-1.37-1.37c-.4-.4-.92-.59-1.43-.59-.52 0-1.04.2-1.43.59L10.3 9.45l-7.72 7.72c-.78.78-.78 2.05 0 2.83L4 21.41c.39.39.9.59 1.41.59.51 0 1.02-.2 1.41-.59l7.78-7.78 2.81-2.81c.8-.78.8-2.07 0-2.86zM5.41 20L4 18.59l7.72-7.72 1.47 1.35L5.41 20z\"/>\n",
              "  </svg>\n",
              "      </button>\n",
              "      \n",
              "  <style>\n",
              "    .colab-df-container {\n",
              "      display:flex;\n",
              "      flex-wrap:wrap;\n",
              "      gap: 12px;\n",
              "    }\n",
              "\n",
              "    .colab-df-convert {\n",
              "      background-color: #E8F0FE;\n",
              "      border: none;\n",
              "      border-radius: 50%;\n",
              "      cursor: pointer;\n",
              "      display: none;\n",
              "      fill: #1967D2;\n",
              "      height: 32px;\n",
              "      padding: 0 0 0 0;\n",
              "      width: 32px;\n",
              "    }\n",
              "\n",
              "    .colab-df-convert:hover {\n",
              "      background-color: #E2EBFA;\n",
              "      box-shadow: 0px 1px 2px rgba(60, 64, 67, 0.3), 0px 1px 3px 1px rgba(60, 64, 67, 0.15);\n",
              "      fill: #174EA6;\n",
              "    }\n",
              "\n",
              "    [theme=dark] .colab-df-convert {\n",
              "      background-color: #3B4455;\n",
              "      fill: #D2E3FC;\n",
              "    }\n",
              "\n",
              "    [theme=dark] .colab-df-convert:hover {\n",
              "      background-color: #434B5C;\n",
              "      box-shadow: 0px 1px 3px 1px rgba(0, 0, 0, 0.15);\n",
              "      filter: drop-shadow(0px 1px 2px rgba(0, 0, 0, 0.3));\n",
              "      fill: #FFFFFF;\n",
              "    }\n",
              "  </style>\n",
              "\n",
              "      <script>\n",
              "        const buttonEl =\n",
              "          document.querySelector('#df-c84ee405-deb8-43ae-88db-622b7e20f8ed button.colab-df-convert');\n",
              "        buttonEl.style.display =\n",
              "          google.colab.kernel.accessAllowed ? 'block' : 'none';\n",
              "\n",
              "        async function convertToInteractive(key) {\n",
              "          const element = document.querySelector('#df-c84ee405-deb8-43ae-88db-622b7e20f8ed');\n",
              "          const dataTable =\n",
              "            await google.colab.kernel.invokeFunction('convertToInteractive',\n",
              "                                                     [key], {});\n",
              "          if (!dataTable) return;\n",
              "\n",
              "          const docLinkHtml = 'Like what you see? Visit the ' +\n",
              "            '<a target=\"_blank\" href=https://colab.research.google.com/notebooks/data_table.ipynb>data table notebook</a>'\n",
              "            + ' to learn more about interactive tables.';\n",
              "          element.innerHTML = '';\n",
              "          dataTable['output_type'] = 'display_data';\n",
              "          await google.colab.output.renderOutput(dataTable, element);\n",
              "          const docLink = document.createElement('div');\n",
              "          docLink.innerHTML = docLinkHtml;\n",
              "          element.appendChild(docLink);\n",
              "        }\n",
              "      </script>\n",
              "    </div>\n",
              "  </div>\n",
              "  "
            ]
          },
          "metadata": {},
          "execution_count": 12
        }
      ],
      "source": [
        "data.head()"
      ]
    },
    {
      "cell_type": "code",
      "execution_count": 13,
      "metadata": {
        "colab": {
          "base_uri": "https://localhost:8080/"
        },
        "id": "uDU7IYSRZLU2",
        "outputId": "76875df8-12d1-4d01-c832-c9064859499e"
      },
      "outputs": [
        {
          "output_type": "execute_result",
          "data": {
            "text/plain": [
              "0    431\n",
              "1    190\n",
              "2     39\n",
              "Name: Group or Cluster, dtype: int64"
            ]
          },
          "metadata": {},
          "execution_count": 13
        }
      ],
      "source": [
        "data['Group or Cluster'].value_counts()"
      ]
    },
    {
      "cell_type": "code",
      "execution_count": 14,
      "metadata": {
        "colab": {
          "base_uri": "https://localhost:8080/",
          "height": 1000
        },
        "id": "soaTwOp3Zut-",
        "outputId": "b6f58294-b396-4c6c-aed9-c6e5f69c9b5a"
      },
      "outputs": [
        {
          "output_type": "error",
          "ename": "ValueError",
          "evalue": "ignored",
          "traceback": [
            "\u001b[0;31m---------------------------------------------------------------------------\u001b[0m",
            "\u001b[0;31mValueError\u001b[0m                                Traceback (most recent call last)",
            "\u001b[0;32m/usr/local/lib/python3.7/dist-packages/seaborn/palettes.py\u001b[0m in \u001b[0;36mcolor_palette\u001b[0;34m(palette, n_colors, desat, as_cmap)\u001b[0m\n\u001b[1;32m    205\u001b[0m                 \u001b[0;31m# Perhaps a named matplotlib colormap?\u001b[0m\u001b[0;34m\u001b[0m\u001b[0;34m\u001b[0m\u001b[0;34m\u001b[0m\u001b[0m\n\u001b[0;32m--> 206\u001b[0;31m                 \u001b[0mpalette\u001b[0m \u001b[0;34m=\u001b[0m \u001b[0mmpl_palette\u001b[0m\u001b[0;34m(\u001b[0m\u001b[0mpalette\u001b[0m\u001b[0;34m,\u001b[0m \u001b[0mn_colors\u001b[0m\u001b[0;34m,\u001b[0m \u001b[0mas_cmap\u001b[0m\u001b[0;34m=\u001b[0m\u001b[0mas_cmap\u001b[0m\u001b[0;34m)\u001b[0m\u001b[0;34m\u001b[0m\u001b[0;34m\u001b[0m\u001b[0m\n\u001b[0m\u001b[1;32m    207\u001b[0m             \u001b[0;32mexcept\u001b[0m \u001b[0mValueError\u001b[0m\u001b[0;34m:\u001b[0m\u001b[0;34m\u001b[0m\u001b[0;34m\u001b[0m\u001b[0m\n",
            "\u001b[0;32m/usr/local/lib/python3.7/dist-packages/seaborn/palettes.py\u001b[0m in \u001b[0;36mmpl_palette\u001b[0;34m(name, n_colors, as_cmap)\u001b[0m\n\u001b[1;32m    442\u001b[0m     \u001b[0;32melse\u001b[0m\u001b[0;34m:\u001b[0m\u001b[0;34m\u001b[0m\u001b[0;34m\u001b[0m\u001b[0m\n\u001b[0;32m--> 443\u001b[0;31m         \u001b[0mcmap\u001b[0m \u001b[0;34m=\u001b[0m \u001b[0mmpl\u001b[0m\u001b[0;34m.\u001b[0m\u001b[0mcm\u001b[0m\u001b[0;34m.\u001b[0m\u001b[0mget_cmap\u001b[0m\u001b[0;34m(\u001b[0m\u001b[0mname\u001b[0m\u001b[0;34m)\u001b[0m\u001b[0;34m\u001b[0m\u001b[0;34m\u001b[0m\u001b[0m\n\u001b[0m\u001b[1;32m    444\u001b[0m \u001b[0;34m\u001b[0m\u001b[0m\n",
            "\u001b[0;32m/usr/local/lib/python3.7/dist-packages/matplotlib/cm.py\u001b[0m in \u001b[0;36mget_cmap\u001b[0;34m(name, lut)\u001b[0m\n\u001b[1;32m    133\u001b[0m         \u001b[0;32mreturn\u001b[0m \u001b[0mname\u001b[0m\u001b[0;34m\u001b[0m\u001b[0;34m\u001b[0m\u001b[0m\n\u001b[0;32m--> 134\u001b[0;31m     \u001b[0mcbook\u001b[0m\u001b[0;34m.\u001b[0m\u001b[0m_check_in_list\u001b[0m\u001b[0;34m(\u001b[0m\u001b[0msorted\u001b[0m\u001b[0;34m(\u001b[0m\u001b[0mcmap_d\u001b[0m\u001b[0;34m)\u001b[0m\u001b[0;34m,\u001b[0m \u001b[0mname\u001b[0m\u001b[0;34m=\u001b[0m\u001b[0mname\u001b[0m\u001b[0;34m)\u001b[0m\u001b[0;34m\u001b[0m\u001b[0;34m\u001b[0m\u001b[0m\n\u001b[0m\u001b[1;32m    135\u001b[0m     \u001b[0;32mif\u001b[0m \u001b[0mlut\u001b[0m \u001b[0;32mis\u001b[0m \u001b[0;32mNone\u001b[0m\u001b[0;34m:\u001b[0m\u001b[0;34m\u001b[0m\u001b[0;34m\u001b[0m\u001b[0m\n",
            "\u001b[0;32m/usr/local/lib/python3.7/dist-packages/matplotlib/cbook/__init__.py\u001b[0m in \u001b[0;36m_check_in_list\u001b[0;34m(_values, **kwargs)\u001b[0m\n\u001b[1;32m   2144\u001b[0m                 \u001b[0;34m\"{!r} is not a valid value for {}; supported values are {}\"\u001b[0m\u001b[0;34m\u001b[0m\u001b[0;34m\u001b[0m\u001b[0m\n\u001b[0;32m-> 2145\u001b[0;31m                 .format(v, k, ', '.join(map(repr, values))))\n\u001b[0m\u001b[1;32m   2146\u001b[0m \u001b[0;34m\u001b[0m\u001b[0m\n",
            "\u001b[0;31mValueError\u001b[0m: 'chroma' is not a valid value for name; supported values are 'Accent', 'Accent_r', 'Blues', 'Blues_r', 'BrBG', 'BrBG_r', 'BuGn', 'BuGn_r', 'BuPu', 'BuPu_r', 'CMRmap', 'CMRmap_r', 'Dark2', 'Dark2_r', 'GnBu', 'GnBu_r', 'Greens', 'Greens_r', 'Greys', 'Greys_r', 'OrRd', 'OrRd_r', 'Oranges', 'Oranges_r', 'PRGn', 'PRGn_r', 'Paired', 'Paired_r', 'Pastel1', 'Pastel1_r', 'Pastel2', 'Pastel2_r', 'PiYG', 'PiYG_r', 'PuBu', 'PuBuGn', 'PuBuGn_r', 'PuBu_r', 'PuOr', 'PuOr_r', 'PuRd', 'PuRd_r', 'Purples', 'Purples_r', 'RdBu', 'RdBu_r', 'RdGy', 'RdGy_r', 'RdPu', 'RdPu_r', 'RdYlBu', 'RdYlBu_r', 'RdYlGn', 'RdYlGn_r', 'Reds', 'Reds_r', 'Set1', 'Set1_r', 'Set2', 'Set2_r', 'Set3', 'Set3_r', 'Spectral', 'Spectral_r', 'Wistia', 'Wistia_r', 'YlGn', 'YlGnBu', 'YlGnBu_r', 'YlGn_r', 'YlOrBr', 'YlOrBr_r', 'YlOrRd', 'YlOrRd_r', 'afmhot', 'afmhot_r', 'autumn', 'autumn_r', 'binary', 'binary_r', 'bone', 'bone_r', 'brg', 'brg_r', 'bwr', 'bwr_r', 'cividis', 'cividis_r', 'cool', 'cool_r', 'coolwarm', 'coolwarm_r', 'copper', 'copper_r', 'crest', 'crest_r', 'cubehelix', 'cubehelix_r', 'flag', 'flag_r', 'flare', 'flare_r', 'gist_earth', 'gist_earth_r', 'gist_gray', 'gist_gray_r', 'gist_heat', 'gist_heat_r', 'gist_ncar', 'gist_ncar_r', 'gist_rainbow', 'gist_rainbow_r', 'gist_stern', 'gist_stern_r', 'gist_yarg', 'gist_yarg_r', 'gnuplot', 'gnuplot2', 'gnuplot2_r', 'gnuplot_r', 'gray', 'gray_r', 'hot', 'hot_r', 'hsv', 'hsv_r', 'icefire', 'icefire_r', 'inferno', 'inferno_r', 'jet', 'jet_r', 'ma...",
            "\nDuring handling of the above exception, another exception occurred:\n",
            "\u001b[0;31mValueError\u001b[0m                                Traceback (most recent call last)",
            "\u001b[0;32m<ipython-input-14-a3c07c61a5b6>\u001b[0m in \u001b[0;36m<module>\u001b[0;34m()\u001b[0m\n\u001b[1;32m      5\u001b[0m                 \u001b[0my\u001b[0m\u001b[0;34m=\u001b[0m\u001b[0mdata\u001b[0m\u001b[0;34m[\u001b[0m\u001b[0;34m'Avg_Credit_Limit'\u001b[0m\u001b[0;34m]\u001b[0m\u001b[0;34m,\u001b[0m\u001b[0;34m\u001b[0m\u001b[0;34m\u001b[0m\u001b[0m\n\u001b[1;32m      6\u001b[0m                 \u001b[0mhue\u001b[0m\u001b[0;34m=\u001b[0m\u001b[0mdata\u001b[0m\u001b[0;34m[\u001b[0m\u001b[0;34m'Group or Cluster'\u001b[0m\u001b[0;34m]\u001b[0m\u001b[0;34m,\u001b[0m\u001b[0;34m\u001b[0m\u001b[0;34m\u001b[0m\u001b[0m\n\u001b[0;32m----> 7\u001b[0;31m                 palette='chroma')\n\u001b[0m\u001b[1;32m      8\u001b[0m \u001b[0mplt\u001b[0m\u001b[0;34m.\u001b[0m\u001b[0mshow\u001b[0m\u001b[0;34m(\u001b[0m\u001b[0;34m)\u001b[0m\u001b[0;34m\u001b[0m\u001b[0;34m\u001b[0m\u001b[0m\n",
            "\u001b[0;32m/usr/local/lib/python3.7/dist-packages/seaborn/_decorators.py\u001b[0m in \u001b[0;36minner_f\u001b[0;34m(*args, **kwargs)\u001b[0m\n\u001b[1;32m     44\u001b[0m             )\n\u001b[1;32m     45\u001b[0m         \u001b[0mkwargs\u001b[0m\u001b[0;34m.\u001b[0m\u001b[0mupdate\u001b[0m\u001b[0;34m(\u001b[0m\u001b[0;34m{\u001b[0m\u001b[0mk\u001b[0m\u001b[0;34m:\u001b[0m \u001b[0marg\u001b[0m \u001b[0;32mfor\u001b[0m \u001b[0mk\u001b[0m\u001b[0;34m,\u001b[0m \u001b[0marg\u001b[0m \u001b[0;32min\u001b[0m \u001b[0mzip\u001b[0m\u001b[0;34m(\u001b[0m\u001b[0msig\u001b[0m\u001b[0;34m.\u001b[0m\u001b[0mparameters\u001b[0m\u001b[0;34m,\u001b[0m \u001b[0margs\u001b[0m\u001b[0;34m)\u001b[0m\u001b[0;34m}\u001b[0m\u001b[0;34m)\u001b[0m\u001b[0;34m\u001b[0m\u001b[0;34m\u001b[0m\u001b[0m\n\u001b[0;32m---> 46\u001b[0;31m         \u001b[0;32mreturn\u001b[0m \u001b[0mf\u001b[0m\u001b[0;34m(\u001b[0m\u001b[0;34m**\u001b[0m\u001b[0mkwargs\u001b[0m\u001b[0;34m)\u001b[0m\u001b[0;34m\u001b[0m\u001b[0;34m\u001b[0m\u001b[0m\n\u001b[0m\u001b[1;32m     47\u001b[0m     \u001b[0;32mreturn\u001b[0m \u001b[0minner_f\u001b[0m\u001b[0;34m\u001b[0m\u001b[0;34m\u001b[0m\u001b[0m\n\u001b[1;32m     48\u001b[0m \u001b[0;34m\u001b[0m\u001b[0m\n",
            "\u001b[0;32m/usr/local/lib/python3.7/dist-packages/seaborn/relational.py\u001b[0m in \u001b[0;36mscatterplot\u001b[0;34m(x, y, hue, style, size, data, palette, hue_order, hue_norm, sizes, size_order, size_norm, markers, style_order, x_bins, y_bins, units, estimator, ci, n_boot, alpha, x_jitter, y_jitter, legend, ax, **kwargs)\u001b[0m\n\u001b[1;32m    813\u001b[0m     )\n\u001b[1;32m    814\u001b[0m \u001b[0;34m\u001b[0m\u001b[0m\n\u001b[0;32m--> 815\u001b[0;31m     \u001b[0mp\u001b[0m\u001b[0;34m.\u001b[0m\u001b[0mmap_hue\u001b[0m\u001b[0;34m(\u001b[0m\u001b[0mpalette\u001b[0m\u001b[0;34m=\u001b[0m\u001b[0mpalette\u001b[0m\u001b[0;34m,\u001b[0m \u001b[0morder\u001b[0m\u001b[0;34m=\u001b[0m\u001b[0mhue_order\u001b[0m\u001b[0;34m,\u001b[0m \u001b[0mnorm\u001b[0m\u001b[0;34m=\u001b[0m\u001b[0mhue_norm\u001b[0m\u001b[0;34m)\u001b[0m\u001b[0;34m\u001b[0m\u001b[0;34m\u001b[0m\u001b[0m\n\u001b[0m\u001b[1;32m    816\u001b[0m     \u001b[0mp\u001b[0m\u001b[0;34m.\u001b[0m\u001b[0mmap_size\u001b[0m\u001b[0;34m(\u001b[0m\u001b[0msizes\u001b[0m\u001b[0;34m=\u001b[0m\u001b[0msizes\u001b[0m\u001b[0;34m,\u001b[0m \u001b[0morder\u001b[0m\u001b[0;34m=\u001b[0m\u001b[0msize_order\u001b[0m\u001b[0;34m,\u001b[0m \u001b[0mnorm\u001b[0m\u001b[0;34m=\u001b[0m\u001b[0msize_norm\u001b[0m\u001b[0;34m)\u001b[0m\u001b[0;34m\u001b[0m\u001b[0;34m\u001b[0m\u001b[0m\n\u001b[1;32m    817\u001b[0m     \u001b[0mp\u001b[0m\u001b[0;34m.\u001b[0m\u001b[0mmap_style\u001b[0m\u001b[0;34m(\u001b[0m\u001b[0mmarkers\u001b[0m\u001b[0;34m=\u001b[0m\u001b[0mmarkers\u001b[0m\u001b[0;34m,\u001b[0m \u001b[0morder\u001b[0m\u001b[0;34m=\u001b[0m\u001b[0mstyle_order\u001b[0m\u001b[0;34m)\u001b[0m\u001b[0;34m\u001b[0m\u001b[0;34m\u001b[0m\u001b[0m\n",
            "\u001b[0;32m/usr/local/lib/python3.7/dist-packages/seaborn/_core.py\u001b[0m in \u001b[0;36mmap\u001b[0;34m(cls, plotter, *args, **kwargs)\u001b[0m\n\u001b[1;32m     51\u001b[0m         \u001b[0;31m# This method is assigned the __init__ docstring\u001b[0m\u001b[0;34m\u001b[0m\u001b[0;34m\u001b[0m\u001b[0;34m\u001b[0m\u001b[0m\n\u001b[1;32m     52\u001b[0m         \u001b[0mmethod_name\u001b[0m \u001b[0;34m=\u001b[0m \u001b[0;34m\"_{}_map\"\u001b[0m\u001b[0;34m.\u001b[0m\u001b[0mformat\u001b[0m\u001b[0;34m(\u001b[0m\u001b[0mcls\u001b[0m\u001b[0;34m.\u001b[0m\u001b[0m__name__\u001b[0m\u001b[0;34m[\u001b[0m\u001b[0;34m:\u001b[0m\u001b[0;34m-\u001b[0m\u001b[0;36m7\u001b[0m\u001b[0;34m]\u001b[0m\u001b[0;34m.\u001b[0m\u001b[0mlower\u001b[0m\u001b[0;34m(\u001b[0m\u001b[0;34m)\u001b[0m\u001b[0;34m)\u001b[0m\u001b[0;34m\u001b[0m\u001b[0;34m\u001b[0m\u001b[0m\n\u001b[0;32m---> 53\u001b[0;31m         \u001b[0msetattr\u001b[0m\u001b[0;34m(\u001b[0m\u001b[0mplotter\u001b[0m\u001b[0;34m,\u001b[0m \u001b[0mmethod_name\u001b[0m\u001b[0;34m,\u001b[0m \u001b[0mcls\u001b[0m\u001b[0;34m(\u001b[0m\u001b[0mplotter\u001b[0m\u001b[0;34m,\u001b[0m \u001b[0;34m*\u001b[0m\u001b[0margs\u001b[0m\u001b[0;34m,\u001b[0m \u001b[0;34m**\u001b[0m\u001b[0mkwargs\u001b[0m\u001b[0;34m)\u001b[0m\u001b[0;34m)\u001b[0m\u001b[0;34m\u001b[0m\u001b[0;34m\u001b[0m\u001b[0m\n\u001b[0m\u001b[1;32m     54\u001b[0m         \u001b[0;32mreturn\u001b[0m \u001b[0mplotter\u001b[0m\u001b[0;34m\u001b[0m\u001b[0;34m\u001b[0m\u001b[0m\n\u001b[1;32m     55\u001b[0m \u001b[0;34m\u001b[0m\u001b[0m\n",
            "\u001b[0;32m/usr/local/lib/python3.7/dist-packages/seaborn/_core.py\u001b[0m in \u001b[0;36m__init__\u001b[0;34m(self, plotter, palette, order, norm)\u001b[0m\n\u001b[1;32m    108\u001b[0m                 \u001b[0mdata\u001b[0m \u001b[0;34m=\u001b[0m \u001b[0mpd\u001b[0m\u001b[0;34m.\u001b[0m\u001b[0mto_numeric\u001b[0m\u001b[0;34m(\u001b[0m\u001b[0mdata\u001b[0m\u001b[0;34m)\u001b[0m\u001b[0;34m\u001b[0m\u001b[0;34m\u001b[0m\u001b[0m\n\u001b[1;32m    109\u001b[0m                 levels, lookup_table, norm, cmap = self.numeric_mapping(\n\u001b[0;32m--> 110\u001b[0;31m                     \u001b[0mdata\u001b[0m\u001b[0;34m,\u001b[0m \u001b[0mpalette\u001b[0m\u001b[0;34m,\u001b[0m \u001b[0mnorm\u001b[0m\u001b[0;34m,\u001b[0m\u001b[0;34m\u001b[0m\u001b[0;34m\u001b[0m\u001b[0m\n\u001b[0m\u001b[1;32m    111\u001b[0m                 )\n\u001b[1;32m    112\u001b[0m \u001b[0;34m\u001b[0m\u001b[0m\n",
            "\u001b[0;32m/usr/local/lib/python3.7/dist-packages/seaborn/_core.py\u001b[0m in \u001b[0;36mnumeric_mapping\u001b[0;34m(self, data, palette, norm)\u001b[0m\n\u001b[1;32m    236\u001b[0m                 \u001b[0mcmap\u001b[0m \u001b[0;34m=\u001b[0m \u001b[0mpalette\u001b[0m\u001b[0;34m\u001b[0m\u001b[0;34m\u001b[0m\u001b[0m\n\u001b[1;32m    237\u001b[0m             \u001b[0;32melse\u001b[0m\u001b[0;34m:\u001b[0m\u001b[0;34m\u001b[0m\u001b[0;34m\u001b[0m\u001b[0m\n\u001b[0;32m--> 238\u001b[0;31m                 \u001b[0mcmap\u001b[0m \u001b[0;34m=\u001b[0m \u001b[0mcolor_palette\u001b[0m\u001b[0;34m(\u001b[0m\u001b[0mpalette\u001b[0m\u001b[0;34m,\u001b[0m \u001b[0mas_cmap\u001b[0m\u001b[0;34m=\u001b[0m\u001b[0;32mTrue\u001b[0m\u001b[0;34m)\u001b[0m\u001b[0;34m\u001b[0m\u001b[0;34m\u001b[0m\u001b[0m\n\u001b[0m\u001b[1;32m    239\u001b[0m \u001b[0;34m\u001b[0m\u001b[0m\n\u001b[1;32m    240\u001b[0m             \u001b[0;31m# Now sort out the data normalization\u001b[0m\u001b[0;34m\u001b[0m\u001b[0;34m\u001b[0m\u001b[0;34m\u001b[0m\u001b[0m\n",
            "\u001b[0;32m/usr/local/lib/python3.7/dist-packages/seaborn/palettes.py\u001b[0m in \u001b[0;36mcolor_palette\u001b[0;34m(palette, n_colors, desat, as_cmap)\u001b[0m\n\u001b[1;32m    206\u001b[0m                 \u001b[0mpalette\u001b[0m \u001b[0;34m=\u001b[0m \u001b[0mmpl_palette\u001b[0m\u001b[0;34m(\u001b[0m\u001b[0mpalette\u001b[0m\u001b[0;34m,\u001b[0m \u001b[0mn_colors\u001b[0m\u001b[0;34m,\u001b[0m \u001b[0mas_cmap\u001b[0m\u001b[0;34m=\u001b[0m\u001b[0mas_cmap\u001b[0m\u001b[0;34m)\u001b[0m\u001b[0;34m\u001b[0m\u001b[0;34m\u001b[0m\u001b[0m\n\u001b[1;32m    207\u001b[0m             \u001b[0;32mexcept\u001b[0m \u001b[0mValueError\u001b[0m\u001b[0;34m:\u001b[0m\u001b[0;34m\u001b[0m\u001b[0;34m\u001b[0m\u001b[0m\n\u001b[0;32m--> 208\u001b[0;31m                 \u001b[0;32mraise\u001b[0m \u001b[0mValueError\u001b[0m\u001b[0;34m(\u001b[0m\u001b[0;34m\"%s is not a valid palette name\"\u001b[0m \u001b[0;34m%\u001b[0m \u001b[0mpalette\u001b[0m\u001b[0;34m)\u001b[0m\u001b[0;34m\u001b[0m\u001b[0;34m\u001b[0m\u001b[0m\n\u001b[0m\u001b[1;32m    209\u001b[0m \u001b[0;34m\u001b[0m\u001b[0m\n\u001b[1;32m    210\u001b[0m     \u001b[0;32mif\u001b[0m \u001b[0mdesat\u001b[0m \u001b[0;32mis\u001b[0m \u001b[0;32mnot\u001b[0m \u001b[0;32mNone\u001b[0m\u001b[0;34m:\u001b[0m\u001b[0;34m\u001b[0m\u001b[0;34m\u001b[0m\u001b[0m\n",
            "\u001b[0;31mValueError\u001b[0m: chroma is not a valid palette name"
          ]
        },
        {
          "output_type": "display_data",
          "data": {
            "text/plain": [
              "<Figure size 1080x576 with 1 Axes>"
            ],
            "image/png": "[encoded data removed]"
          },
          "metadata": {
            "needs_background": "light"
          }
        }
      ],
      "source": [
        "import matplotlib.pyplot as plt\n",
        "\n",
        "fig,ax = plt.subplots(figsize=(15,8))\n",
        "sns.scatterplot(x=data['Total_Credit_Cards'],\n",
        "                y=data['Avg_Credit_Limit'],\n",
        "                hue=data['Group or Cluster'],\n",
        "                palette='chroma')\n",
        "plt.show()"
      ]
    },
    {
      "cell_type": "code",
      "execution_count": 15,
      "metadata": {
        "id": "_C9IQqMraGT3"
      },
      "outputs": [],
      "source": [
        "wcss=[]  #With in cluster sum of squares\n",
        "\n",
        "for i in range(1,7):\n",
        "  kmeans=KMeans(n_clusters=i, \n",
        "                init='k-means++', \n",
        "                n_init=10, \n",
        "                max_iter=300, \n",
        "                tol=0.0001,  \n",
        "                verbose=0, \n",
        "                random_state=None, \n",
        "                copy_x=True,  \n",
        "                algorithm='auto')\n",
        "  \n",
        "  kmeans.fit(data)\n",
        "\n",
        "  wcss.append(kmeans.inertia_)  #Do for iterations 1 to 7 clusters, find out the min wcsss and add them"
      ]
    },
    {
      "cell_type": "code",
      "execution_count": 16,
      "metadata": {
        "id": "HwPR5VVcc2Qr",
        "colab": {
          "base_uri": "https://localhost:8080/",
          "height": 293
        },
        "outputId": "4f37def0-8ed1-4d30-e16c-9c60b6568a59"
      },
      "outputs": [
        {
          "output_type": "execute_result",
          "data": {
            "text/plain": [
              "[<matplotlib.lines.Line2D at 0x7fe869bcf310>]"
            ]
          },
          "metadata": {},
          "execution_count": 16
        },
        {
          "output_type": "display_data",
          "data": {
            "text/plain": [
              "<Figure size 432x288 with 1 Axes>"
            ],
            "image/png": "[encoded data removed]"
          },
          "metadata": {
            "needs_background": "light"
          }
        }
      ],
      "source": [
        "import matplotlib.pyplot as plt\n",
        "\n",
        "plt.plot(range(1,7),wcss)  #Elbow Graph"
      ]
    },
    {
      "cell_type": "code",
      "execution_count": 17,
      "metadata": {
        "id": "OJDJni7UdIjt",
        "colab": {
          "base_uri": "https://localhost:8080/",
          "height": 592
        },
        "outputId": "3536562b-e8df-4ae1-dec0-29cfb5a10b7a"
      },
      "outputs": [
        {
          "output_type": "stream",
          "name": "stdout",
          "text": [
            "   Avg_Credit_Limit  Total_Credit_Cards  Total_visits_bank  \\\n",
            "0            100000                   2                  1   \n",
            "1             50000                   3                  0   \n",
            "2             50000                   7                  1   \n",
            "3             30000                   5                  1   \n",
            "4            100000                   6                  0   \n",
            "\n",
            "   Total_visits_online  Total_calls_made  Group or Cluster  \n",
            "0                    1                 0                 2  \n",
            "1                   10                 9                 2  \n",
            "2                    3                 4                 2  \n",
            "3                    1                 4                 0  \n",
            "4                   12                 3                 2  \n",
            "0    442\n",
            "2    180\n",
            "1     38\n",
            "Name: Group or Cluster, dtype: int64\n"
          ]
        },
        {
          "output_type": "execute_result",
          "data": {
            "text/plain": [
              "<matplotlib.axes._subplots.AxesSubplot at 0x7fe865b81090>"
            ]
          },
          "metadata": {},
          "execution_count": 17
        },
        {
          "output_type": "display_data",
          "data": {
            "text/plain": [
              "<Figure size 432x288 with 1 Axes>"
            ],
            "image/png": "[encoded data removed]"
          },
          "metadata": {
            "needs_background": "light"
          }
        }
      ],
      "source": [
        "km = KMeans(3)\n",
        "km.fit(data)\n",
        "data['Group or Cluster'] = km.fit_predict(data)\n",
        "print(data.head())\n",
        "print(data['Group or Cluster'].value_counts())\n",
        "sns.scatterplot(x=data['Total_Credit_Cards'],\n",
        "                y=data['Avg_Credit_Limit'],\n",
        "                hue=data['Group or Cluster'])"
      ]
    },
    {
      "cell_type": "code",
      "execution_count": 18,
      "metadata": {
        "id": "NoJcZDsPeKhy"
      },
      "outputs": [],
      "source": [
        "first_group = data[data['Group or Cluster']==0]\n",
        "\n",
        "second_group=data[data['Group or Cluster']==1]\n",
        "\n",
        "third_group = data[data['Group or Cluster']==2]"
      ]
    },
    {
      "cell_type": "code",
      "execution_count": 19,
      "metadata": {
        "id": "jnk0GkPee3So"
      },
      "outputs": [],
      "source": [
        "first_group.to_csv('first_group.csv')  #Get output file\n",
        "second_group.to_csv('second_group.csv')\n",
        "third_group.to_csv('third_group.csv')"
      ]
    },
    {
      "cell_type": "code",
      "execution_count": 20,
      "metadata": {
        "id": "chm0hlraf4LZ"
      },
      "outputs": [],
      "source": [
        "import sklearn.metrics as metrics"
      ]
    },
    {
      "cell_type": "code",
      "execution_count": 21,
      "metadata": {
        "id": "iFsubmOxWQL4",
        "colab": {
          "base_uri": "https://localhost:8080/"
        },
        "outputId": "d4daa98e-f687-40ea-bca6-d0d52a451a79"
      },
      "outputs": [
        {
          "output_type": "stream",
          "name": "stdout",
          "text": [
            "Silhouette score for k(clusters) = 3 is 0.7187172257825772\n",
            "Silhouette score for k(clusters) = 4 is 0.6987312604482434\n",
            "Silhouette score for k(clusters) = 5 is 0.7051922277856973\n",
            "Silhouette score for k(clusters) = 6 is 0.5994220966946538\n",
            "Silhouette score for k(clusters) = 7 is 0.6223014204276837\n",
            "Silhouette score for k(clusters) = 8 is 0.6177740952516586\n",
            "Silhouette score for k(clusters) = 9 is 0.6200954864571298\n"
          ]
        }
      ],
      "source": [
        "for i in range(3,10):\n",
        "    kmeans=KMeans(n_clusters=i,\n",
        "                  init=\"k-means++\",\n",
        "                  random_state=200)\n",
        "    kmeans.fit(data)\n",
        "    labels=kmeans.labels_\n",
        "    print (\"Silhouette score for k(clusters) = \"+str(i)+\" is \"\n",
        "           +str(metrics.silhouette_score(data,\n",
        "                                         labels,\n",
        "                                         metric=\"euclidean\",\n",
        "                                         sample_size=1000,\n",
        "                                         random_state=200)))"
      ]
    },
    {
      "cell_type": "markdown",
      "metadata": {
        "id": "lnAGks2OXAEw"
      },
      "source": [
        "Max Silhouette Score as k = 3, Hence 3 Clusters is the right option"
      ]
    },
    {
      "cell_type": "code",
      "execution_count": 22,
      "metadata": {
        "id": "8FlV1yPQWdgH",
        "colab": {
          "base_uri": "https://localhost:8080/"
        },
        "outputId": "ce604a27-bd94-4ba1-d3ea-115bcde68b3f"
      },
      "outputs": [
        {
          "output_type": "execute_result",
          "data": {
            "text/plain": [
              "array([3, 0, 0, 4, 3, 5, 3, 5, 1, 1, 1, 5, 1, 1, 1, 1, 5, 1, 1, 5, 1, 5,\n",
              "       1, 1, 1, 5, 5, 1, 1, 1, 5, 1, 1, 5, 1, 5, 1, 5, 5, 1, 5, 1, 5, 5,\n",
              "       1, 5, 1, 1, 1, 5, 5, 1, 5, 1, 5, 1, 1, 1, 1, 5, 5, 5, 1, 5, 1, 5,\n",
              "       5, 1, 1, 5, 5, 1, 1, 5, 1, 5, 5, 5, 1, 5, 5, 1, 5, 5, 1, 1, 1, 1,\n",
              "       1, 1, 5, 5, 1, 1, 5, 1, 5, 5, 5, 1, 1, 1, 1, 5, 5, 1, 5, 1, 1, 5,\n",
              "       5, 1, 5, 1, 5, 1, 5, 5, 5, 1, 1, 5, 1, 5, 1, 5, 5, 1, 1, 1, 5, 1,\n",
              "       1, 1, 5, 5, 5, 5, 5, 5, 5, 5, 1, 1, 1, 5, 5, 1, 1, 5, 1, 5, 5, 1,\n",
              "       1, 5, 1, 5, 1, 1, 1, 1, 1, 5, 5, 5, 5, 5, 1, 5, 1, 1, 5, 1, 5, 1,\n",
              "       1, 5, 1, 5, 1, 5, 1, 5, 5, 5, 1, 5, 5, 1, 5, 1, 5, 1, 1, 1, 5, 1,\n",
              "       5, 1, 1, 1, 1, 1, 5, 5, 5, 5, 1, 1, 5, 1, 1, 1, 5, 1, 1, 1, 5, 5,\n",
              "       1, 1, 5, 5, 1, 5, 1, 1, 1, 1, 5, 5, 5, 5, 5, 5, 1, 1, 5, 5, 5, 1,\n",
              "       1, 1, 1, 1, 1, 5, 1, 1, 5, 5, 1, 5, 5, 1, 5, 1, 1, 1, 5, 5, 5, 5,\n",
              "       5, 1, 5, 5, 5, 5, 1, 1, 5, 5, 1, 5, 5, 5, 1, 1, 1, 5, 1, 1, 1, 1,\n",
              "       1, 5, 1, 1, 5, 1, 5, 1, 1, 1, 1, 1, 1, 1, 5, 1, 5, 5, 5, 5, 5, 1,\n",
              "       1, 5, 1, 1, 1, 1, 1, 5, 5, 1, 5, 1, 1, 1, 1, 1, 1, 5, 1, 1, 5, 1,\n",
              "       5, 5, 5, 5, 1, 5, 1, 1, 5, 1, 1, 5, 1, 1, 5, 5, 5, 1, 5, 1, 1, 1,\n",
              "       5, 1, 1, 1, 5, 1, 1, 1, 5, 5, 5, 1, 5, 5, 5, 1, 5, 5, 1, 1, 5, 1,\n",
              "       5, 5, 5, 5, 1, 1, 5, 5, 1, 5, 1, 1, 5, 1, 1, 1, 1, 5, 1, 5, 5, 1,\n",
              "       6, 0, 6, 6, 6, 0, 0, 6, 6, 0, 6, 0, 0, 6, 4, 0, 4, 4, 6, 0, 0, 6,\n",
              "       6, 0, 4, 6, 0, 0, 4, 0, 6, 0, 0, 4, 6, 6, 0, 6, 0, 6, 6, 0, 4, 6,\n",
              "       0, 4, 0, 6, 6, 4, 6, 6, 4, 4, 0, 4, 0, 6, 5, 0, 4, 0, 6, 6, 4, 4,\n",
              "       6, 4, 0, 0, 6, 4, 4, 6, 4, 0, 4, 4, 4, 0, 6, 0, 4, 0, 0, 4, 6, 4,\n",
              "       4, 0, 6, 4, 0, 0, 6, 6, 0, 4, 4, 0, 0, 0, 4, 6, 4, 4, 0, 6, 4, 6,\n",
              "       4, 4, 0, 4, 4, 0, 6, 4, 4, 4, 4, 6, 4, 0, 4, 6, 4, 6, 0, 6, 4, 4,\n",
              "       4, 4, 4, 4, 0, 4, 0, 4, 0, 6, 6, 6, 0, 0, 0, 0, 0, 4, 6, 4, 0, 4,\n",
              "       0, 4, 6, 4, 4, 0, 0, 6, 4, 4, 0, 4, 0, 6, 4, 6, 4, 4, 0, 6, 6, 4,\n",
              "       6, 6, 6, 6, 4, 0, 4, 6, 0, 4, 6, 0, 4, 4, 4, 6, 0, 4, 4, 6, 0, 6,\n",
              "       0, 4, 4, 4, 6, 0, 6, 4, 4, 0, 4, 4, 6, 4, 0, 4, 4, 0, 2, 3, 2, 8,\n",
              "       3, 8, 8, 2, 3, 2, 7, 2, 7, 3, 2, 8, 6, 2, 7, 7, 7, 2, 3, 3, 8, 2,\n",
              "       2, 7, 8, 8, 3, 3, 8, 2, 7, 7, 3, 3, 7, 8, 2, 3, 2, 3, 6, 8, 2, 2],\n",
              "      dtype=int32)"
            ]
          },
          "metadata": {},
          "execution_count": 22
        }
      ],
      "source": [
        "kmeans.labels_"
      ]
    },
    {
      "cell_type": "code",
      "execution_count": 23,
      "metadata": {
        "id": "U2cpg_UTWhpb",
        "colab": {
          "base_uri": "https://localhost:8080/"
        },
        "outputId": "b329f9d5-8f4a-42b2-df1c-248bb7335e9a"
      },
      "outputs": [
        {
          "output_type": "execute_result",
          "data": {
            "text/plain": [
              "array([3, 0, 0, 4, 3, 5, 3, 5, 1, 1, 1, 5, 1, 1, 1, 1, 5, 1, 1, 5, 1, 5,\n",
              "       1, 1, 1, 5, 5, 1, 1, 1, 5, 1, 1, 5, 1, 5, 1, 5, 5, 1, 5, 1, 5, 5,\n",
              "       1, 5, 1, 1, 1, 5, 5, 1, 5, 1, 5, 1, 1, 1, 1, 5, 5, 5, 1, 5, 1, 5,\n",
              "       5, 1, 1, 5, 5, 1, 1, 5, 1, 5, 5, 5, 1, 5, 5, 1, 5, 5, 1, 1, 1, 1,\n",
              "       1, 1, 5, 5, 1, 1, 5, 1, 5, 5, 5, 1, 1, 1, 1, 5, 5, 1, 5, 1, 1, 5,\n",
              "       5, 1, 5, 1, 5, 1, 5, 5, 5, 1, 1, 5, 1, 5, 1, 5, 5, 1, 1, 1, 5, 1,\n",
              "       1, 1, 5, 5, 5, 5, 5, 5, 5, 5, 1, 1, 1, 5, 5, 1, 1, 5, 1, 5, 5, 1,\n",
              "       1, 5, 1, 5, 1, 1, 1, 1, 1, 5, 5, 5, 5, 5, 1, 5, 1, 1, 5, 1, 5, 1,\n",
              "       1, 5, 1, 5, 1, 5, 1, 5, 5, 5, 1, 5, 5, 1, 5, 1, 5, 1, 1, 1, 5, 1,\n",
              "       5, 1, 1, 1, 1, 1, 5, 5, 5, 5, 1, 1, 5, 1, 1, 1, 5, 1, 1, 1, 5, 5,\n",
              "       1, 1, 5, 5, 1, 5, 1, 1, 1, 1, 5, 5, 5, 5, 5, 5, 1, 1, 5, 5, 5, 1,\n",
              "       1, 1, 1, 1, 1, 5, 1, 1, 5, 5, 1, 5, 5, 1, 5, 1, 1, 1, 5, 5, 5, 5,\n",
              "       5, 1, 5, 5, 5, 5, 1, 1, 5, 5, 1, 5, 5, 5, 1, 1, 1, 5, 1, 1, 1, 1,\n",
              "       1, 5, 1, 1, 5, 1, 5, 1, 1, 1, 1, 1, 1, 1, 5, 1, 5, 5, 5, 5, 5, 1,\n",
              "       1, 5, 1, 1, 1, 1, 1, 5, 5, 1, 5, 1, 1, 1, 1, 1, 1, 5, 1, 1, 5, 1,\n",
              "       5, 5, 5, 5, 1, 5, 1, 1, 5, 1, 1, 5, 1, 1, 5, 5, 5, 1, 5, 1, 1, 1,\n",
              "       5, 1, 1, 1, 5, 1, 1, 1, 5, 5, 5, 1, 5, 5, 5, 1, 5, 5, 1, 1, 5, 1,\n",
              "       5, 5, 5, 5, 1, 1, 5, 5, 1, 5, 1, 1, 5, 1, 1, 1, 1, 5, 1, 5, 5, 1,\n",
              "       6, 0, 6, 6, 6, 0, 0, 6, 6, 0, 6, 0, 0, 6, 4, 0, 4, 4, 6, 0, 0, 6,\n",
              "       6, 0, 4, 6, 0, 0, 4, 0, 6, 0, 0, 4, 6, 6, 0, 6, 0, 6, 6, 0, 4, 6,\n",
              "       0, 4, 0, 6, 6, 4, 6, 6, 4, 4, 0, 4, 0, 6, 5, 0, 4, 0, 6, 6, 4, 4,\n",
              "       6, 4, 0, 0, 6, 4, 4, 6, 4, 0, 4, 4, 4, 0, 6, 0, 4, 0, 0, 4, 6, 4,\n",
              "       4, 0, 6, 4, 0, 0, 6, 6, 0, 4, 4, 0, 0, 0, 4, 6, 4, 4, 0, 6, 4, 6,\n",
              "       4, 4, 0, 4, 4, 0, 6, 4, 4, 4, 4, 6, 4, 0, 4, 6, 4, 6, 0, 6, 4, 4,\n",
              "       4, 4, 4, 4, 0, 4, 0, 4, 0, 6, 6, 6, 0, 0, 0, 0, 0, 4, 6, 4, 0, 4,\n",
              "       0, 4, 6, 4, 4, 0, 0, 6, 4, 4, 0, 4, 0, 6, 4, 6, 4, 4, 0, 6, 6, 4,\n",
              "       6, 6, 6, 6, 4, 0, 4, 6, 0, 4, 6, 0, 4, 4, 4, 6, 0, 4, 4, 6, 0, 6,\n",
              "       0, 4, 4, 4, 6, 0, 6, 4, 4, 0, 4, 4, 6, 4, 0, 4, 4, 0, 2, 3, 2, 8,\n",
              "       3, 8, 8, 2, 3, 2, 7, 2, 7, 3, 2, 8, 6, 2, 7, 7, 7, 2, 3, 3, 8, 2,\n",
              "       2, 7, 8, 8, 3, 3, 8, 2, 7, 7, 3, 3, 7, 8, 2, 3, 2, 3, 6, 8, 2, 2],\n",
              "      dtype=int32)"
            ]
          },
          "metadata": {},
          "execution_count": 23
        }
      ],
      "source": [
        "labels"
      ]
    }
  ],
  "metadata": {
    "colab": {
      "collapsed_sections": [],
      "name": "Clustering.ipynb",
      "provenance": [],
      "include_colab_link": true
    },
    "kernelspec": {
      "display_name": "Python 3",
      "name": "python3"
    },
    "language_info": {
      "name": "python"
    }
  },
  "nbformat": 4,
  "nbformat_minor": 0
}